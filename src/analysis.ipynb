{
 "cells": [
  {
   "cell_type": "code",
   "execution_count": 9,
   "metadata": {},
   "outputs": [],
   "source": [
    "\"\"\" Authors: Indiana, Becky, Irmak\n",
    "    Date: 2 Dec 2022\n",
    "\n",
    "    Analysis on ensembles.\n",
    "\"\"\"\n",
    "\n",
    "import pickle as pkl\n",
    "import matplotlib.pyplot as plt\n",
    "from gerrychain import Partition\n",
    "from utils import *\n",
    "\n",
    "\n",
    "\"\"\" Load base VTDs dual graph\n",
    "\"\"\"\n",
    "with open('../objects/VTDs_graph.pkl', 'rb') as f:\n",
    "    VTDs_graph = pkl.load(f)\n",
    "\n",
    "\n",
    "\"\"\" Create graphs of relevant plans/partitions\n",
    "\"\"\"\n",
    "# gerrymandered\n",
    "G_2011 = graph_of_partition(Partition(VTDs_graph, 'CD_2011'))\n",
    "G_ts = graph_of_partition(Partition(VTDs_graph, 'TS'))\n",
    "\n",
    "# non-gerrymandered\n",
    "G_2018 = graph_of_partition(Partition(VTDs_graph, 'REMEDIAL'))\n",
    "\n",
    "\n",
    "\"\"\" Load ensembles\n",
    "\"\"\"\n",
    "# ensembles of number of cut edges\n",
    "with open('../ensembles/cut_edges/cut_edges_2011.pkl', 'rb') as f:\n",
    "    cut_edges_2011 = pkl.load(f)\n",
    "\n",
    "with open('../ensembles/cut_edges/cut_edges_2018.pkl', 'rb') as f:\n",
    "    cut_edges_2018 = pkl.load(f)\n",
    "\n",
    "with open('../ensembles/cut_edges/cut_edges_random.pkl', 'rb') as f:\n",
    "    cut_edges_random = pkl.load(f)\n",
    "\n",
    "# ensembles of graphs\n",
    "with open('../ensembles/graphs/graphs_2011.pkl', 'rb') as f:\n",
    "    graphs_2011 = pkl.load(f)\n",
    "\n",
    "with open('../ensembles/graphs/graphs_2018.pkl', 'rb') as f:\n",
    "    graphs_2018 = pkl.load(f)\n",
    "\n",
    "with open('../ensembles/graphs/graphs_random.pkl', 'rb') as f:\n",
    "    graphs_random = pkl.load(f)"
   ]
  },
  {
   "cell_type": "code",
   "execution_count": 18,
   "metadata": {},
   "outputs": [
    {
     "data": {
      "image/png": "[encoded data removed]",
      "text/plain": [
       "<Figure size 432x288 with 1 Axes>"
      ]
     },
     "metadata": {
      "needs_background": "light"
     },
     "output_type": "display_data"
    }
   ],
   "source": [
    "\"\"\" Check for convergence\n",
    "\"\"\"\n",
    "plt.figure()\n",
    "plt.hist(cut_edges_2011, color='red', edgecolor='white')\n",
    "plt.hist(cut_edges_2018, color='green', edgecolor='white')\n",
    "plt.hist(cut_edges_random, color='grey', edgecolor='white')\n",
    "plt.show()"
   ]
  }
 ],
 "metadata": {
  "kernelspec": {
   "display_name": "Python 3.11.0 ('math195')",
   "language": "python",
   "name": "python3"
  },
  "language_info": {
   "codemirror_mode": {
    "name": "ipython",
    "version": 3
   },
   "file_extension": ".py",
   "mimetype": "text/x-python",
   "name": "python",
   "nbconvert_exporter": "python",
   "pygments_lexer": "ipython3",
   "version": "3.11.0"
  },
  "orig_nbformat": 4,
  "vscode": {
   "interpreter": {
    "hash": "e6cf7616a1a7d96f27d836b9ac9c1eabdd3ace0733c88a6e6c4641ce44946c50"
   }
  }
 },
 "nbformat": 4,
 "nbformat_minor": 2
}
